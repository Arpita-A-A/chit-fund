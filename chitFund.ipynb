{
 "cells": [
  {
   "cell_type": "code",
   "execution_count": 1,
   "metadata": {},
   "outputs": [
    {
     "name": "stdout",
     "output_type": "stream",
     "text": [
      "Annualized  Return of the person who bids in the last month is: \n",
      "Annualized Return of the person who bids in the first month is: \n",
      "   Month  Contribution  Amount won by the bidder  \\\n",
      "0      1          2000                     40000   \n",
      "1      2          2000                     42000   \n",
      "2      3          2000                     45000   \n",
      "3      4          2000                     48000   \n",
      "4      5          2000                     40000   \n",
      "\n",
      "   Chit fund organizer commission  Net amount recd by Bid winner  \\\n",
      "0                            2500                          37500   \n",
      "1                            2500                          39500   \n",
      "2                            2500                          42500   \n",
      "3                            2500                          45500   \n",
      "4                            2500                          37500   \n",
      "\n",
      "   Amount returned to everyone in the group  Total Return  Annualized Return  \\\n",
      "0                                       400         43700            20976.0   \n",
      "1                                       320         45700            21936.0   \n",
      "2                                       200         48700            23376.0   \n",
      "3                                        80         51700            24816.0   \n",
      "4                                       400         43700            20976.0   \n",
      "\n",
      "   Return Percentage  \n",
      "0               87.4  \n",
      "1               91.4  \n",
      "2               97.4  \n",
      "3              103.4  \n",
      "4               87.4  \n"
     ]
    }
   ],
   "source": [
    "import pandas as pd\n",
    "import numpy as np\n",
    "\n",
    "class ChitFund:\n",
    "    def __init__(self, filename):\n",
    "        self.df = pd.read_csv(filename)\n",
    "        self.totalReturn = self.total_return()\n",
    "\n",
    "    def total_return(self):\n",
    "        bid_return = np.array(self.df['Net amount recd by Bid winner'])\n",
    "        each_month_return = np.array(self.df['Amount returned to everyone in the group'])\n",
    "        for i in each_month_return:\n",
    "            bid_return += i\n",
    "        return bid_return\n",
    "\n",
    "    def annual_return(self):\n",
    "        ar = self.totalReturn * (12/25)\n",
    "        return ar\n",
    "\n",
    "    def return_percentage(self):\n",
    "        rp = self.totalReturn * (100 / 50000)\n",
    "        return rp\n",
    "\n",
    "    def show_data(self, size):\n",
    "        print(self.df.head(size))\n",
    "\n",
    "\n",
    "\n",
    "def main():\n",
    "    C1 = ChitFund('Exercise Data.csv')\n",
    "\n",
    "    C1.df['Total Return'] = C1.totalReturn\n",
    "    C1.df['Annualized Return'] = C1.annual_return()\n",
    "    C1.df['Return Percentage'] = C1.return_percentage()\n",
    "    print('Annualized  Return of the person who bids in the last month is: '.format(list(C1.df['Annualized Return'])[-1]))\n",
    "    print('Annualized Return of the person who bids in the first month is: '.format(list(C1.df['Annualized Return'])[0]))\n",
    "    C1.show_data(5)\n",
    "    C1.df.to_csv('output.csv')\n",
    "\n",
    "\n",
    "if __name__ =='__main__':\n",
    "    main()"
   ]
  },
  {
   "cell_type": "code",
   "execution_count": null,
   "metadata": {},
   "outputs": [],
   "source": []
  }
 ],
 "metadata": {
  "kernelspec": {
   "display_name": "Python 3",
   "language": "python",
   "name": "python3"
  },
  "language_info": {
   "codemirror_mode": {
    "name": "ipython",
    "version": 3
   },
   "file_extension": ".py",
   "mimetype": "text/x-python",
   "name": "python",
   "nbconvert_exporter": "python",
   "pygments_lexer": "ipython3",
   "version": "3.7.6"
  }
 },
 "nbformat": 4,
 "nbformat_minor": 4
}
